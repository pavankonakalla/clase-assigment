{
 "cells": [
  {
   "cell_type": "code",
   "execution_count": 1,
   "id": "c2a8a000",
   "metadata": {},
   "outputs": [],
   "source": [
    "class Triangle:\n",
    "    def __init__(self,a,b,c):\n",
    "        self.a=a\n",
    "        self.b=b\n",
    "        self.c=c\n",
    "    def perimiter(self):\n",
    "        return (self.a+self.b+self.c)/2\n",
    "class area(Triangle):\n",
    "    def __init__(self,s,**args):\n",
    "        super(area,self).__init__(*args)\n",
    "        self.s=s\n",
    "    def __str__(self):\n",
    "        return \"area of triangle is\".format(((self.s) * (self.s - self.a) * (self.s - self.b) * (self.s - self.c))** 0.5) "
   ]
  },
  {
   "cell_type": "code",
   "execution_count": 3,
   "id": "3c30dfd9",
   "metadata": {},
   "outputs": [
    {
     "ename": "TypeError",
     "evalue": "__init__() takes 2 positional arguments but 5 were given",
     "output_type": "error",
     "traceback": [
      "\u001b[1;31m---------------------------------------------------------------------------\u001b[0m",
      "\u001b[1;31mTypeError\u001b[0m                                 Traceback (most recent call last)",
      "\u001b[1;32m<ipython-input-3-e4549f2e01e7>\u001b[0m in \u001b[0;36m<module>\u001b[1;34m\u001b[0m\n\u001b[0;32m      1\u001b[0m \u001b[0mt\u001b[0m\u001b[1;33m=\u001b[0m\u001b[0mTriangle\u001b[0m\u001b[1;33m(\u001b[0m\u001b[1;36m2\u001b[0m\u001b[1;33m,\u001b[0m\u001b[1;36m3\u001b[0m\u001b[1;33m,\u001b[0m\u001b[1;36m4\u001b[0m\u001b[1;33m)\u001b[0m\u001b[1;33m\u001b[0m\u001b[1;33m\u001b[0m\u001b[0m\n\u001b[1;32m----> 2\u001b[1;33m \u001b[0mt\u001b[0m\u001b[1;33m=\u001b[0m\u001b[0marea\u001b[0m\u001b[1;33m(\u001b[0m\u001b[0mt\u001b[0m\u001b[1;33m.\u001b[0m\u001b[0mperimiter\u001b[0m\u001b[1;33m(\u001b[0m\u001b[1;33m)\u001b[0m\u001b[1;33m,\u001b[0m\u001b[1;36m2\u001b[0m\u001b[1;33m,\u001b[0m\u001b[1;36m3\u001b[0m\u001b[1;33m,\u001b[0m\u001b[1;36m4\u001b[0m\u001b[1;33m)\u001b[0m\u001b[1;33m\u001b[0m\u001b[1;33m\u001b[0m\u001b[0m\n\u001b[0m",
      "\u001b[1;31mTypeError\u001b[0m: __init__() takes 2 positional arguments but 5 were given"
     ]
    }
   ],
   "source": [
    "t=Triangle(2,3,4)\n",
    "t=area(t.perimiter(),2,3,4)"
   ]
  },
  {
   "cell_type": "code",
   "execution_count": null,
   "id": "97030c29",
   "metadata": {},
   "outputs": [],
   "source": [
    "###Write a function filter_long_words() that takes a list of words and an integer n and returnsthe list of words that are longer than n.\n",
    "#Assignment4 Q1.2\n"
   ]
  },
  {
   "cell_type": "code",
   "execution_count": 6,
   "id": "4dc3c8ad",
   "metadata": {},
   "outputs": [
    {
     "name": "stdout",
     "output_type": "stream",
     "text": [
      "enetr the words listthis ia mya name\n",
      "enter the lenght of number3\n"
     ]
    },
    {
     "ename": "TypeError",
     "evalue": "'builtin_function_or_method' object is not subscriptable",
     "output_type": "error",
     "traceback": [
      "\u001b[1;31m---------------------------------------------------------------------------\u001b[0m",
      "\u001b[1;31mTypeError\u001b[0m                                 Traceback (most recent call last)",
      "\u001b[1;32m<ipython-input-6-2e339a7a2dca>\u001b[0m in \u001b[0;36m<module>\u001b[1;34m\u001b[0m\n\u001b[0;32m      8\u001b[0m \u001b[0mwords\u001b[0m\u001b[1;33m=\u001b[0m\u001b[0minput\u001b[0m\u001b[1;33m(\u001b[0m\u001b[1;34m\"enetr the words list\"\u001b[0m\u001b[1;33m)\u001b[0m\u001b[1;33m\u001b[0m\u001b[1;33m\u001b[0m\u001b[0m\n\u001b[0;32m      9\u001b[0m \u001b[0mnumber\u001b[0m\u001b[1;33m=\u001b[0m\u001b[0mint\u001b[0m\u001b[1;33m(\u001b[0m\u001b[0minput\u001b[0m\u001b[1;33m(\u001b[0m\u001b[1;34m\"enter the lenght of number\"\u001b[0m\u001b[1;33m)\u001b[0m\u001b[1;33m)\u001b[0m\u001b[1;33m\u001b[0m\u001b[1;33m\u001b[0m\u001b[0m\n\u001b[1;32m---> 10\u001b[1;33m \u001b[0mlong_wordss\u001b[0m\u001b[1;33m(\u001b[0m\u001b[0mwords\u001b[0m\u001b[1;33m,\u001b[0m\u001b[0mnumber\u001b[0m\u001b[1;33m)\u001b[0m\u001b[1;33m\u001b[0m\u001b[1;33m\u001b[0m\u001b[0m\n\u001b[0m",
      "\u001b[1;32m<ipython-input-6-2e339a7a2dca>\u001b[0m in \u001b[0;36mlong_wordss\u001b[1;34m(words, number)\u001b[0m\n\u001b[0;32m      2\u001b[0m     \u001b[0mwords\u001b[0m\u001b[1;33m=\u001b[0m\u001b[0mwords\u001b[0m\u001b[1;33m.\u001b[0m\u001b[0msplit\u001b[0m\u001b[1;33m(\u001b[0m\u001b[1;34m\" \"\u001b[0m\u001b[1;33m)\u001b[0m\u001b[1;33m\u001b[0m\u001b[1;33m\u001b[0m\u001b[0m\n\u001b[0;32m      3\u001b[0m     \u001b[1;32mfor\u001b[0m \u001b[0mi\u001b[0m \u001b[1;32min\u001b[0m \u001b[0mrange\u001b[0m\u001b[1;33m(\u001b[0m\u001b[0mlen\u001b[0m\u001b[1;33m(\u001b[0m\u001b[0mwords\u001b[0m\u001b[1;33m)\u001b[0m\u001b[1;33m)\u001b[0m\u001b[1;33m:\u001b[0m\u001b[1;33m\u001b[0m\u001b[1;33m\u001b[0m\u001b[0m\n\u001b[1;32m----> 4\u001b[1;33m         \u001b[1;32mif\u001b[0m \u001b[0mlen\u001b[0m\u001b[1;33m[\u001b[0m\u001b[0mwords\u001b[0m\u001b[1;33m[\u001b[0m\u001b[0mi\u001b[0m\u001b[1;33m]\u001b[0m\u001b[1;33m]\u001b[0m\u001b[1;33m>\u001b[0m\u001b[0mnumber\u001b[0m\u001b[1;33m:\u001b[0m\u001b[1;33m\u001b[0m\u001b[1;33m\u001b[0m\u001b[0m\n\u001b[0m\u001b[0;32m      5\u001b[0m             \u001b[0mprint\u001b[0m\u001b[1;33m(\u001b[0m\u001b[0mwords\u001b[0m\u001b[1;33m[\u001b[0m\u001b[0mi\u001b[0m\u001b[1;33m]\u001b[0m\u001b[1;33m)\u001b[0m\u001b[1;33m\u001b[0m\u001b[1;33m\u001b[0m\u001b[0m\n\u001b[0;32m      6\u001b[0m \u001b[1;33m\u001b[0m\u001b[0m\n",
      "\u001b[1;31mTypeError\u001b[0m: 'builtin_function_or_method' object is not subscriptable"
     ]
    }
   ],
   "source": [
    "def long_wordss(words,number):\n",
    "    words=words.split(\" \")\n",
    "    for i in range(len(words)):\n",
    "        if len[words[i]]>number:\n",
    "            print(words[i])\n",
    "            \n",
    "            \n",
    "words=input(\"enetr the words list\")\n",
    "number=int(input(\"enter the lenght of number\"))\n",
    "long_wordss(words,number)"
   ]
  },
  {
   "cell_type": "code",
   "execution_count": null,
   "id": "4c51a3bc",
   "metadata": {},
   "outputs": [],
   "source": [
    "filter_long_words(\"this is my name pavan alias pk\",3)"
   ]
  },
  {
   "cell_type": "code",
   "execution_count": null,
   "id": "d4f1b0ef",
   "metadata": {},
   "outputs": [],
   "source": [
    "filter_long_words(words,number)"
   ]
  },
  {
   "cell_type": "code",
   "execution_count": 1,
   "id": "d5398ef3",
   "metadata": {},
   "outputs": [
    {
     "name": "stdout",
     "output_type": "stream",
     "text": [
      "Enter a list of words: this is name pavan kalyan alias pk\n",
      "Number: 3\n",
      "this\n",
      "name\n",
      "pavan\n",
      "kalyan\n",
      "alias\n"
     ]
    }
   ],
   "source": [
    "def filter_long_words(words,number):\n",
    "    words = words.split(\" \")\n",
    "    for i in range(len(words)):\n",
    "        if len(words[i]) >  number:\n",
    "            print(words[i])\n",
    " \n",
    "words = input(\"Enter a list of words: \")\n",
    "number = int(input(\"Number: \")) \n",
    "filter_long_words(words,number)"
   ]
  },
  {
   "cell_type": "code",
   "execution_count": null,
   "id": "292d5a57",
   "metadata": {},
   "outputs": [],
   "source": [
    "##Write a Python program using function concept that maps list of words into a list of integers\n",
    "representing the lengths of the corresponding words.\n"
   ]
  },
  {
   "cell_type": "code",
   "execution_count": 2,
   "id": "3c8ddf06",
   "metadata": {},
   "outputs": [
    {
     "name": "stdout",
     "output_type": "stream",
     "text": [
      "enter the list of wordsthis is my panme\n",
      "list of words: ['this', 'is', 'my', 'panme']\n",
      "lis of word lenght: [4, 2, 2, 5]\n"
     ]
    }
   ],
   "source": [
    "word=input(\"enter the list of words\")\n",
    "words=word.split()\n",
    "n=[]\n",
    "\n",
    "for i in range(len(words)):\n",
    "    n.append(len(words[i]))\n",
    "             \n",
    "print(\"list of words:\",words)\n",
    "print(\"lis of word lenght:\",n)"
   ]
  },
  {
   "cell_type": "code",
   "execution_count": null,
   "id": "8b220c61",
   "metadata": {},
   "outputs": [],
   "source": [
    "Word = input(\"Enter the list of words: \")\n",
    "Words = Word.split()\n",
    "word_num = []\n",
    " \n",
    "for i in range(len(Words)):\n",
    "    word_num.append(len(Words[i]))\n",
    "print (\"list of words: \", Words)    \n",
    "print (\"List of wordlength:\",word_num)"
   ]
  },
  {
   "cell_type": "code",
   "execution_count": null,
   "id": "a3e1dfa7",
   "metadata": {},
   "outputs": [],
   "source": []
  },
  {
   "cell_type": "code",
   "execution_count": 9,
   "id": "307b3b5e",
   "metadata": {},
   "outputs": [
    {
     "data": {
      "text/plain": [
       "False"
      ]
     },
     "execution_count": 9,
     "metadata": {},
     "output_type": "execute_result"
    }
   ],
   "source": [
    "def allvowel(char):\n",
    "    allvowel='aeiou'\n",
    "    return char in allvowel\n",
    "allvowel('c')\n"
   ]
  },
  {
   "cell_type": "code",
   "execution_count": null,
   "id": "b05c39d6",
   "metadata": {},
   "outputs": [],
   "source": []
  },
  {
   "cell_type": "code",
   "execution_count": null,
   "id": "87ee23c6",
   "metadata": {},
   "outputs": [],
   "source": []
  },
  {
   "cell_type": "code",
   "execution_count": null,
   "id": "b58db680",
   "metadata": {},
   "outputs": [],
   "source": []
  },
  {
   "cell_type": "code",
   "execution_count": null,
   "id": "431b3e8e",
   "metadata": {},
   "outputs": [],
   "source": []
  }
 ],
 "metadata": {
  "kernelspec": {
   "display_name": "Python 3",
   "language": "python",
   "name": "python3"
  },
  "language_info": {
   "codemirror_mode": {
    "name": "ipython",
    "version": 3
   },
   "file_extension": ".py",
   "mimetype": "text/x-python",
   "name": "python",
   "nbconvert_exporter": "python",
   "pygments_lexer": "ipython3",
   "version": "3.8.8"
  }
 },
 "nbformat": 4,
 "nbformat_minor": 5
}
